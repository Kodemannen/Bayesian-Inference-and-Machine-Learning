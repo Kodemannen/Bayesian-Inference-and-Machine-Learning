{
 "cells": [
  {
   "cell_type": "markdown",
   "metadata": {},
   "source": [
    "# Classifying phases of the Ising model with Bayesian regression\n",
    "\n",
    "\n",
    "Difference between Bayesian and classical approach to statistics:\n",
    "Classical:\n",
    "    Frequentist. Probability represents empirical ratio of event / possible events\n",
    "    The data is the stochastic elements, the parameter is fixed.\n",
    "    Suffers from a number of pathologies\n",
    "    \n",
    "Bayesian:\n",
    "    Probability represents OUR uncertainty.\n",
    "    The data isn't the stochastic element, but our parameter estimate is\n",
    "    Uses a prior, representing that one usually has prior information\n",
    "    or the prior can represent complete ignorance\n",
    "    \n",
    "   \n",
    " \n",
    "Various regularization schemes are mathematically equivalent to using certain priors\n",
    "\n",
    "\n",
    "Bayesian linear regression:\n",
    "    Full posterior p(w,sigma|D), meaning we get the knowledge of how vectors w' in the neighbourhood of w compares. \n",
    "    Can provide a certainty estimate, eg. credible interval or highest posterior density region. We will use the latter. \n",
    "        what is this when doing linear regression?\n",
    "        \n",
    "       \n",
    "    Gaussian prior is equivalent to L2 regularization in classical statistics\n",
    "    \n",
    "    Bayesian model selection for linreg?\n",
    "    \n",
    "    gives uncertainty estimates both for the w and y\n",
    "    \n",
    "\n",
    "\"In most statistical situations\n",
    "(excluding game theoretic ones), assuming nature is an adversary is not a reasonable assumption.\" "
   ]
  },
  {
   "cell_type": "markdown",
   "metadata": {},
   "source": [
    "# Bayesian linear regression"
   ]
  },
  {
   "cell_type": "markdown",
   "metadata": {},
   "source": [
    "### The 1D ising model\n",
    "\n",
    "We randomly generate $N$ states of the 1D ising model (meaning N 1D vectors consisting of -1s and 1s) and calculate their energies using the following Hamiltonian:\n",
    "$$\n",
    "H[\\vec{S^i}] = - J\\sum_{j=1}^LS_j^i S_{j+1}^i\n",
    "$$\n",
    "Where $S_j^i$ is the j'th element of the i'th state $\\vec{S^i}$. We set the value $J=1$.\n",
    "\n",
    "We will then try to see if we can re-extract this Hamiltonian from the data using Bayesian Linear regression."
   ]
  },
  {
   "cell_type": "markdown",
   "metadata": {},
   "source": [
    "### Producing 1D Ising data:"
   ]
  },
  {
   "cell_type": "code",
   "execution_count": 35,
   "metadata": {},
   "outputs": [],
   "source": [
    "import numpy as np\n",
    "import scipy.sparse as sp\n",
    "np.random.seed(12)\n",
    "\n",
    "\n",
    "import warnings\n",
    "# Comment this to turn on warnings\n",
    "warnings.filterwarnings('ignore')\n",
    "\n",
    "### define Ising model aprams\n",
    "# system size\n",
    "L=40\n",
    "\n",
    "# create 10000 random Ising states\n",
    "states=np.random.choice([-1, 1], size=(900,L))\n",
    "\n",
    "def ising_energies(states):\n",
    "    \"\"\"\n",
    "    This function calculates the energies of the states in the nn Ising Hamiltonian\n",
    "    \"\"\"\n",
    "    L = states.shape[1]\n",
    "    J = np.zeros((L, L),)\n",
    "    for i in range(L): \n",
    "        J[i,(i+1)%L]=-1.0 # interaction between nearest-neighbors\n",
    "        \n",
    "    # compute energies\n",
    "    E = np.einsum('...i,ij,...j->...',states,J,states)\n",
    "\n",
    "    return E\n",
    "# calculate Ising energies\n",
    "energies=ising_energies(states)"
   ]
  },
  {
   "cell_type": "markdown",
   "metadata": {},
   "source": [
    "### Remapping data for regression\n",
    "\n",
    "We pretend that we're ignorant about the Hamiltonian used to generate the above data. That means that the values aren't the only unknowns, but the shape of it as well. So we need to consider the all-to-all Hamiltonian\n",
    "\n",
    "$$\n",
    "H_{model}[\\vec{S^i}] = - \\sum_{j=1}^L\\sum_{k=1}^L J_{j,k}S_j^iS_{k}^i\n",
    "$$\n",
    "\n",
    "We see that the actual Hamiltonian we used above is just a special case of this, with $J_{j,k} = \\delta_{j,k+1}$.\n",
    "\n",
    "\n",
    "\n",
    "Taking the outer product\n",
    "\n",
    "$\\vec{\\mathbf{x}} \\rightarrow \\phi(\\vec{\\mathbf{x}})=\\vec{\\mathbf{x}}\\otimes \\vec{\\mathbf{x}}$\n",
    "\n",
    "then we make the vector $\\phi(\\vec{\\mathbf{x}})$ one-dimensional"
   ]
  },
  {
   "cell_type": "code",
   "execution_count": 53,
   "metadata": {},
   "outputs": [],
   "source": [
    "new_states = np.einsum('bi,bo->bio',states,states)\n",
    "new_states = new_states.reshape(new_states.shape[0],-1)"
   ]
  },
  {
   "cell_type": "markdown",
   "metadata": {},
   "source": []
  },
  {
   "cell_type": "code",
   "execution_count": 51,
   "metadata": {},
   "outputs": [
    {
     "name": "stdout",
     "output_type": "stream",
     "text": [
      "10.829948663711548\n"
     ]
    }
   ],
   "source": [
    "import time\n",
    "from sys import exit\n",
    "t0 = time.time()\n",
    "\n",
    "\n",
    "n = new_states.shape[0]   # number of data\n",
    "D = new_states.shape[1]   # data dimension\n",
    "\n",
    "# Prior:\n",
    "variance = 1\n",
    "w0 = np.zeros(D)\n",
    "tau = 1 # 1 means unitary gaussian\n",
    "V0 = tau**2*np.identity(D)  # precision matrix of prior\n",
    "V0_inv = np.linalg.inv(V0)\n",
    "\n",
    "\n",
    "X = new_states # data matrix with data as rows\n",
    "y = energies\n",
    "\n",
    "\n",
    "VN_inv = V0_inv + np.dot(X.T,X) / variance\n",
    "VN = np.linalg.inv(VN_inv)\n",
    "\n",
    "wN = np.dot(np.dot(VN,V0_inv),w0) + np.dot(np.dot(VN,X.T),y) / variance\n",
    "t1 = time.time()-t0\n",
    "\n",
    "print(t1)"
   ]
  },
  {
   "cell_type": "code",
   "execution_count": 52,
   "metadata": {},
   "outputs": [
    {
     "data": {
      "image/png": "[encoded data removed]",
      "text/plain": [
       "<Figure size 432x288 with 2 Axes>"
      ]
     },
     "metadata": {
      "needs_background": "light"
     },
     "output_type": "display_data"
    }
   ],
   "source": [
    "import matplotlib.pyplot as plt\n",
    "%matplotlib inline\n",
    "import seaborn as sns\n",
    "\n",
    "sns.heatmap(wN.reshape(40,40))\n",
    "plt.show()\n",
    "#plt.imshow(wN.reshape(40,40))\n",
    "#plt.show()"
   ]
  },
  {
   "cell_type": "markdown",
   "metadata": {},
   "source": [
    "Gir mening at den fordeler verdiene i w sånn, fordi 0.5^2 + 0.5^2 er mindre enn 1^2 + 1^2 \n",
    "\n",
    "Det at Lasso er mer riktig er ikke fordi den henter det ut fra dataen, men pga. prioren.\n"
   ]
  },
  {
   "cell_type": "markdown",
   "metadata": {},
   "source": [
    "### Test data\n",
    "\n",
    "\n"
   ]
  },
  {
   "cell_type": "code",
   "execution_count": 69,
   "metadata": {},
   "outputs": [
    {
     "name": "stdout",
     "output_type": "stream",
     "text": [
      "0.9998683892131723\n"
     ]
    }
   ],
   "source": [
    "test_states=np.random.choice([-1, 1], size=(300,L))\n",
    "# calculate Ising test energies\n",
    "test_energies=ising_energies(test_states)\n",
    "\n",
    "# remapping states:\n",
    "test_states = np.einsum('bi,bo->bio',test_states,test_states)\n",
    "test_states = test_states.reshape(test_states.shape[0],-1)\n",
    "\n",
    "predicted_energies = np.dot(test_states, wN)\n",
    "\n",
    "\n",
    "### R^2 - coefficient of determination\n",
    "y_true_avg = np.mean(test_energies)\n",
    "residuals = predicted_energies - test_energies\n",
    "u = np.dot(residuals,residuals)\n",
    "v = test_energies - y_true_avg\n",
    "v = np.dot(v,v)\n",
    "\n",
    "R_squared = 1 - u/v\n",
    "\n",
    "print(R_squared)\n"
   ]
  },
  {
   "cell_type": "markdown",
   "metadata": {},
   "source": [
    "## The 2d Ising model\n",
    "### Loading Ising model data"
   ]
  },
  {
   "cell_type": "code",
   "execution_count": 6,
   "metadata": {},
   "outputs": [],
   "source": [
    "import numpy as np\n",
    "import matplotlib.pyplot as plt\n",
    "import pickle\n",
    "\n",
    "def read_t(t,root=\"/home/samknu/MyRepos/MLProjectIsingModel/data/IsingData/\"):\n",
    "    data = pickle.load(open(root+'Ising2DFM_reSample_L40_T=%.2f.pkl'%t,'rb'))\n",
    "    return np.unpackbits(data).astype(int).reshape(-1,1600)\n",
    "\n",
    "temperatures = np.arange(0.25, 4., step=0.25)   "
   ]
  },
  {
   "cell_type": "markdown",
   "metadata": {},
   "source": []
  },
  {
   "cell_type": "code",
   "execution_count": 8,
   "metadata": {},
   "outputs": [
    {
     "ename": "MemoryError",
     "evalue": "",
     "output_type": "error",
     "traceback": [
      "\u001b[0;31m---------------------------------------------------------------------------\u001b[0m",
      "\u001b[0;31mMemoryError\u001b[0m                               Traceback (most recent call last)",
      "\u001b[0;32m<ipython-input-8-7c6ba92621cd>\u001b[0m in \u001b[0;36m<module>\u001b[0;34m\u001b[0m\n\u001b[1;32m      1\u001b[0m \u001b[0;32mfor\u001b[0m \u001b[0mT\u001b[0m \u001b[0;32min\u001b[0m \u001b[0mtemperatures\u001b[0m\u001b[0;34m:\u001b[0m\u001b[0;34m\u001b[0m\u001b[0;34m\u001b[0m\u001b[0m\n\u001b[1;32m      2\u001b[0m     \u001b[0mX\u001b[0m \u001b[0;34m=\u001b[0m \u001b[0mread_t\u001b[0m\u001b[0;34m(\u001b[0m\u001b[0mT\u001b[0m\u001b[0;34m)\u001b[0m\u001b[0;34m\u001b[0m\u001b[0;34m\u001b[0m\u001b[0m\n\u001b[0;32m----> 3\u001b[0;31m     \u001b[0mdat\u001b[0m \u001b[0;34m=\u001b[0m \u001b[0mnp\u001b[0m\u001b[0;34m.\u001b[0m\u001b[0mzeros\u001b[0m\u001b[0;34m(\u001b[0m\u001b[0mshape\u001b[0m\u001b[0;34m=\u001b[0m\u001b[0;34m(\u001b[0m\u001b[0mX\u001b[0m\u001b[0;34m.\u001b[0m\u001b[0mshape\u001b[0m\u001b[0;34m[\u001b[0m\u001b[0;36m0\u001b[0m\u001b[0;34m]\u001b[0m\u001b[0;34m,\u001b[0m \u001b[0mX\u001b[0m\u001b[0;34m.\u001b[0m\u001b[0mshape\u001b[0m\u001b[0;34m[\u001b[0m\u001b[0;36m1\u001b[0m\u001b[0;34m]\u001b[0m\u001b[0;34m*\u001b[0m\u001b[0mX\u001b[0m\u001b[0;34m.\u001b[0m\u001b[0mshape\u001b[0m\u001b[0;34m[\u001b[0m\u001b[0;36m1\u001b[0m\u001b[0;34m]\u001b[0m\u001b[0;34m)\u001b[0m\u001b[0;34m)\u001b[0m\u001b[0;34m\u001b[0m\u001b[0;34m\u001b[0m\u001b[0m\n\u001b[0m\u001b[1;32m      4\u001b[0m     \u001b[0;32mfor\u001b[0m \u001b[0mi\u001b[0m \u001b[0;32min\u001b[0m \u001b[0mrange\u001b[0m\u001b[0;34m(\u001b[0m\u001b[0mX\u001b[0m\u001b[0;34m.\u001b[0m\u001b[0mshape\u001b[0m\u001b[0;34m[\u001b[0m\u001b[0;36m0\u001b[0m\u001b[0;34m]\u001b[0m\u001b[0;34m)\u001b[0m\u001b[0;34m:\u001b[0m\u001b[0;34m\u001b[0m\u001b[0;34m\u001b[0m\u001b[0m\n\u001b[1;32m      5\u001b[0m         \u001b[0mdat\u001b[0m\u001b[0;34m[\u001b[0m\u001b[0mi\u001b[0m\u001b[0;34m]\u001b[0m \u001b[0;34m=\u001b[0m \u001b[0mnp\u001b[0m\u001b[0;34m.\u001b[0m\u001b[0mouter\u001b[0m\u001b[0;34m(\u001b[0m\u001b[0mX\u001b[0m\u001b[0;34m[\u001b[0m\u001b[0mi\u001b[0m\u001b[0;34m]\u001b[0m\u001b[0;34m,\u001b[0m\u001b[0mX\u001b[0m\u001b[0;34m[\u001b[0m\u001b[0mi\u001b[0m\u001b[0;34m]\u001b[0m\u001b[0;34m)\u001b[0m\u001b[0;34m.\u001b[0m\u001b[0mreshape\u001b[0m\u001b[0;34m(\u001b[0m\u001b[0;34m-\u001b[0m\u001b[0;36m1\u001b[0m\u001b[0;34m)\u001b[0m\u001b[0;34m\u001b[0m\u001b[0;34m\u001b[0m\u001b[0m\n",
      "\u001b[0;31mMemoryError\u001b[0m: "
     ]
    }
   ],
   "source": [
    "\n"
   ]
  },
  {
   "cell_type": "code",
   "execution_count": null,
   "metadata": {},
   "outputs": [],
   "source": []
  }
 ],
 "metadata": {
  "kernelspec": {
   "display_name": "Python 3",
   "language": "python",
   "name": "python3"
  },
  "language_info": {
   "codemirror_mode": {
    "name": "ipython",
    "version": 3
   },
   "file_extension": ".py",
   "mimetype": "text/x-python",
   "name": "python",
   "nbconvert_exporter": "python",
   "pygments_lexer": "ipython3",
   "version": "3.6.7"
  }
 },
 "nbformat": 4,
 "nbformat_minor": 2
}
